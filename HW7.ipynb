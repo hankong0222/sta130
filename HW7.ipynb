{
 "cells": [
  {
   "cell_type": "markdown",
   "id": "176b1f8c",
   "metadata": {},
   "source": [
    "Q1"
   ]
  },
  {
   "cell_type": "markdown",
   "id": "4fdc5115",
   "metadata": {},
   "source": [
    "1.\n",
    "simple linear regression only contains one outcome variable based on the predicted variable, multiple linear regression contains multiple outcome variables. Multiple linear regression can better estimate the difference between different level of outcome, can estimate factors.\n",
    "2.\n",
    "continuous variable in linear regression is that the outcome variable is numerical and continuous, so that we can directly produce the scatter plot and the regression.\n",
    "Y=β0+β1*X+ϵ beta1 is the slope\n",
    "indicator variable in linear regression is that the outcome variable is categorical and binary, so that we use one indicator to make the variable into two different results, and then make the regression.\n",
    "   $$\\large Y_i = \\beta_{\\textrm{A}} + 1_{[x_i=\\textrm{\"B\"}]}(x_i)\\beta_{\\textrm{B-offset}} + 1_{[x_i=\\textrm{\"C\"}]}(x_i)\\beta_{\\textrm{C-offset}} + \\epsilon_i \\quad \\text{ where } \\quad \\epsilon_i \\sim \\mathcal N\\left(0, \\sigma^2\\right)$$, X1 is one variable and X2 is other variable\n",
    "3.\n",
    "for the simple linear regression, for continuous variable only compute the whole variance.\n",
    "for the multiple linear regression, there are two different variables linear model, which can use to estimate the difference between two variables' mean.\n",
    "Y=β0+β1*X1+β2*X2+ϵ\n",
    "4.\n",
    "after the interaction added, the slope and y-intercept changes in two linear regression, and may causes the change of the predictor or the outcome variance.\n",
    "$$\\large Y_i = \\beta_0 + \\beta_z z_i + \\beta_{\\textrm{B-offset}} 1_{[x_i=\\textrm{\"B\"}]}(x_i) + \\beta_{\\textrm{z-change-in-B}} z_i \\times 1_{[x_i=\\textrm{\"B\"}]}(x_i) + \\epsilon_i \\quad \\text{ where } \\quad \\epsilon_i \\sim \\mathcal N\\left(0, \\sigma^2\\right)$$<br>\n",
    "5.\n",
    "this makes the non-binary variables into binary variable, calculate the difference between the interaction and the outcomes. This will not change the slope and y-intercept.\n",
    "Y=β0+β1*D1+β2*D2+ϵ"
   ]
  },
  {
   "cell_type": "markdown",
   "id": "cbe3de62",
   "metadata": {},
   "source": [
    "Q2"
   ]
  },
  {
   "cell_type": "markdown",
   "id": "9780526d",
   "metadata": {},
   "source": [
    "outcome:\n",
    "effectiveness of the TV ad\n",
    "predictor:\n",
    "amount spent on online advertising and vice versa\n",
    "\n",
    "if there is some effect that ads on TV and ads online interact each others, the might need to be taken into the outcome\n",
    "without interactions: Y = βA+1[xi=\"TV\"]βTV+1[xi=\"Online\"]βOnline+𝜖\n",
    "For this formula, we estimate two variables seperately, and consider there is no effect between TV and online ads.\n",
    "with interaction: Y=β0+β1⋅TV+β2⋅Online+β3⋅(TV×Online)\n",
    "For this formula, we consider that there is an effect between TV and online ads.So in this time, we calculate the effectiveness togerther.\n",
    "\n",
    "General Differences in Predictions:\n",
    "Without Interaction: \n",
    "The predicted sales change linearly with each budget;\n",
    "Model With Interaction: \n",
    "Predictions change in a more complex way because the effect of one budget depends on the level of the other budget.\n",
    "\n",
    "If the ad budgests are categorized as \"high\" or \"low\", we convert the continuous predictor variables into binary variables, thus in this senario, we can guarrantee the effect on each others decrease.\n",
    "With these models, inputting binary values (1 for “high” or 0 for “low”) allows predictions to reflect the different levels of each budget, and the interaction term will adjust predictions when both budgets are high, allowing the model to account for any potential synergies between high ad spending in both mediums."
   ]
  },
  {
   "cell_type": "markdown",
   "id": "8b0b52bf",
   "metadata": {},
   "source": [
    "Q3"
   ]
  },
  {
   "cell_type": "code",
   "execution_count": 2,
   "id": "a1465851",
   "metadata": {},
   "outputs": [
    {
     "name": "stderr",
     "output_type": "stream",
     "text": [
      "/tmp/ipykernel_52/2161104824.py:6: DtypeWarning: Columns (408,1001,1002,1006,1007,1008,1080,1113,1115,1116,1117,1118,1119,1120,1121,1124,1125,1126,1127,1128,1213,1214,1215,1216,1217,1218,1342,1343,1344,1345,1346,1347,1348,1349,1390,1391,1393,1463,1549,1552,1555,1558,1561) have mixed types. Specify dtype option on import or set low_memory=False.\n",
      "  data = pd.read_csv(url).fillna('None')\n"
     ]
    },
    {
     "ename": "KeyError",
     "evalue": "'gender'",
     "output_type": "error",
     "traceback": [
      "\u001b[0;31m---------------------------------------------------------------------------\u001b[0m",
      "\u001b[0;31mKeyError\u001b[0m                                  Traceback (most recent call last)",
      "File \u001b[0;32m/opt/conda/lib/python3.11/site-packages/pandas/core/indexes/base.py:3790\u001b[0m, in \u001b[0;36mIndex.get_loc\u001b[0;34m(self, key)\u001b[0m\n\u001b[1;32m   3789\u001b[0m \u001b[38;5;28;01mtry\u001b[39;00m:\n\u001b[0;32m-> 3790\u001b[0m     \u001b[38;5;28;01mreturn\u001b[39;00m \u001b[38;5;28;43mself\u001b[39;49m\u001b[38;5;241;43m.\u001b[39;49m\u001b[43m_engine\u001b[49m\u001b[38;5;241;43m.\u001b[39;49m\u001b[43mget_loc\u001b[49m\u001b[43m(\u001b[49m\u001b[43mcasted_key\u001b[49m\u001b[43m)\u001b[49m\n\u001b[1;32m   3791\u001b[0m \u001b[38;5;28;01mexcept\u001b[39;00m \u001b[38;5;167;01mKeyError\u001b[39;00m \u001b[38;5;28;01mas\u001b[39;00m err:\n",
      "File \u001b[0;32mindex.pyx:152\u001b[0m, in \u001b[0;36mpandas._libs.index.IndexEngine.get_loc\u001b[0;34m()\u001b[0m\n",
      "File \u001b[0;32mindex.pyx:181\u001b[0m, in \u001b[0;36mpandas._libs.index.IndexEngine.get_loc\u001b[0;34m()\u001b[0m\n",
      "File \u001b[0;32mpandas/_libs/hashtable_class_helper.pxi:7080\u001b[0m, in \u001b[0;36mpandas._libs.hashtable.PyObjectHashTable.get_item\u001b[0;34m()\u001b[0m\n",
      "File \u001b[0;32mpandas/_libs/hashtable_class_helper.pxi:7088\u001b[0m, in \u001b[0;36mpandas._libs.hashtable.PyObjectHashTable.get_item\u001b[0;34m()\u001b[0m\n",
      "\u001b[0;31mKeyError\u001b[0m: 'gender'",
      "\nThe above exception was the direct cause of the following exception:\n",
      "\u001b[0;31mKeyError\u001b[0m                                  Traceback (most recent call last)",
      "Cell \u001b[0;32mIn[2], line 10\u001b[0m\n\u001b[1;32m      6\u001b[0m data \u001b[38;5;241m=\u001b[39m pd\u001b[38;5;241m.\u001b[39mread_csv(url)\u001b[38;5;241m.\u001b[39mfillna(\u001b[38;5;124m'\u001b[39m\u001b[38;5;124mNone\u001b[39m\u001b[38;5;124m'\u001b[39m)\n\u001b[1;32m      8\u001b[0m \u001b[38;5;66;03m# Example of creating a new variable (for illustration purposes)\u001b[39;00m\n\u001b[1;32m      9\u001b[0m \u001b[38;5;66;03m# You can adjust this as needed based on your dataset\u001b[39;00m\n\u001b[0;32m---> 10\u001b[0m data[\u001b[38;5;124m'\u001b[39m\u001b[38;5;124mfemale\u001b[39m\u001b[38;5;124m'\u001b[39m] \u001b[38;5;241m=\u001b[39m (\u001b[43mdata\u001b[49m\u001b[43m[\u001b[49m\u001b[38;5;124;43m'\u001b[39;49m\u001b[38;5;124;43mgender\u001b[39;49m\u001b[38;5;124;43m'\u001b[39;49m\u001b[43m]\u001b[49m \u001b[38;5;241m==\u001b[39m \u001b[38;5;124m'\u001b[39m\u001b[38;5;124mFemale\u001b[39m\u001b[38;5;124m'\u001b[39m)\u001b[38;5;241m.\u001b[39mastype(\u001b[38;5;28mint\u001b[39m)\n\u001b[1;32m     12\u001b[0m \u001b[38;5;66;03m# Logistic regression model specification formula\u001b[39;00m\n\u001b[1;32m     13\u001b[0m \u001b[38;5;66;03m# Adjust this formula according to the dependent and independent variables of your choice\u001b[39;00m\n\u001b[1;32m     14\u001b[0m \u001b[38;5;66;03m# Example here: Predicting whether a participant is socializing on most days (binary outcome)\u001b[39;00m\n\u001b[1;32m     15\u001b[0m \u001b[38;5;66;03m# Assuming 'CONNECTION_social_days_friends_p7d_grouped' is the dependent variable and is binary (0 or 1)\u001b[39;00m\n\u001b[1;32m     17\u001b[0m linear_model_specification_formula \u001b[38;5;241m=\u001b[39m \\\n\u001b[1;32m     18\u001b[0m \u001b[38;5;124m'\u001b[39m\u001b[38;5;124mfemale ~ CONNECTION_social_days_friends_p7d_grouped*relationship_status + C(relationship_status)\u001b[39m\u001b[38;5;124m'\u001b[39m\n",
      "File \u001b[0;32m/opt/conda/lib/python3.11/site-packages/pandas/core/frame.py:3893\u001b[0m, in \u001b[0;36mDataFrame.__getitem__\u001b[0;34m(self, key)\u001b[0m\n\u001b[1;32m   3891\u001b[0m \u001b[38;5;28;01mif\u001b[39;00m \u001b[38;5;28mself\u001b[39m\u001b[38;5;241m.\u001b[39mcolumns\u001b[38;5;241m.\u001b[39mnlevels \u001b[38;5;241m>\u001b[39m \u001b[38;5;241m1\u001b[39m:\n\u001b[1;32m   3892\u001b[0m     \u001b[38;5;28;01mreturn\u001b[39;00m \u001b[38;5;28mself\u001b[39m\u001b[38;5;241m.\u001b[39m_getitem_multilevel(key)\n\u001b[0;32m-> 3893\u001b[0m indexer \u001b[38;5;241m=\u001b[39m \u001b[38;5;28;43mself\u001b[39;49m\u001b[38;5;241;43m.\u001b[39;49m\u001b[43mcolumns\u001b[49m\u001b[38;5;241;43m.\u001b[39;49m\u001b[43mget_loc\u001b[49m\u001b[43m(\u001b[49m\u001b[43mkey\u001b[49m\u001b[43m)\u001b[49m\n\u001b[1;32m   3894\u001b[0m \u001b[38;5;28;01mif\u001b[39;00m is_integer(indexer):\n\u001b[1;32m   3895\u001b[0m     indexer \u001b[38;5;241m=\u001b[39m [indexer]\n",
      "File \u001b[0;32m/opt/conda/lib/python3.11/site-packages/pandas/core/indexes/base.py:3797\u001b[0m, in \u001b[0;36mIndex.get_loc\u001b[0;34m(self, key)\u001b[0m\n\u001b[1;32m   3792\u001b[0m     \u001b[38;5;28;01mif\u001b[39;00m \u001b[38;5;28misinstance\u001b[39m(casted_key, \u001b[38;5;28mslice\u001b[39m) \u001b[38;5;129;01mor\u001b[39;00m (\n\u001b[1;32m   3793\u001b[0m         \u001b[38;5;28misinstance\u001b[39m(casted_key, abc\u001b[38;5;241m.\u001b[39mIterable)\n\u001b[1;32m   3794\u001b[0m         \u001b[38;5;129;01mand\u001b[39;00m \u001b[38;5;28many\u001b[39m(\u001b[38;5;28misinstance\u001b[39m(x, \u001b[38;5;28mslice\u001b[39m) \u001b[38;5;28;01mfor\u001b[39;00m x \u001b[38;5;129;01min\u001b[39;00m casted_key)\n\u001b[1;32m   3795\u001b[0m     ):\n\u001b[1;32m   3796\u001b[0m         \u001b[38;5;28;01mraise\u001b[39;00m InvalidIndexError(key)\n\u001b[0;32m-> 3797\u001b[0m     \u001b[38;5;28;01mraise\u001b[39;00m \u001b[38;5;167;01mKeyError\u001b[39;00m(key) \u001b[38;5;28;01mfrom\u001b[39;00m \u001b[38;5;21;01merr\u001b[39;00m\n\u001b[1;32m   3798\u001b[0m \u001b[38;5;28;01mexcept\u001b[39;00m \u001b[38;5;167;01mTypeError\u001b[39;00m:\n\u001b[1;32m   3799\u001b[0m     \u001b[38;5;66;03m# If we have a listlike key, _check_indexing_error will raise\u001b[39;00m\n\u001b[1;32m   3800\u001b[0m     \u001b[38;5;66;03m#  InvalidIndexError. Otherwise we fall through and re-raise\u001b[39;00m\n\u001b[1;32m   3801\u001b[0m     \u001b[38;5;66;03m#  the TypeError.\u001b[39;00m\n\u001b[1;32m   3802\u001b[0m     \u001b[38;5;28mself\u001b[39m\u001b[38;5;241m.\u001b[39m_check_indexing_error(key)\n",
      "\u001b[0;31mKeyError\u001b[0m: 'gender'"
     ]
    }
   ],
   "source": [
    "import pandas as pd\n",
    "import statsmodels.formula.api as smf\n",
    "\n",
    "# Load the dataset\n",
    "url = \"https://raw.githubusercontent.com/pointOfive/stat130chat130/main/CP/CSCS_data_anon.csv\"\n",
    "data = pd.read_csv(url).fillna('None')\n",
    "\n",
    "# Example of creating a new variable (for illustration purposes)\n",
    "# You can adjust this as needed based on your dataset\n",
    "data['female'] = (data['gender'] == 'Female').astype(int)\n",
    "\n",
    "linear_model_specification_formula = \\\n",
    "'female ~ CONNECTION_social_days_friends_p7d_grouped*relationship_status + C(relationship_status)'\n",
    "\n",
    "# Fit the logistic regression model\n",
    "log_reg_fit = smf.logit(linear_model_specification_formula, data=data).fit()\n",
    "\n",
    "# Show the summary of the model\n",
    "log_reg_fit.summary()\n"
   ]
  },
  {
   "cell_type": "markdown",
   "id": "fdbfb62f",
   "metadata": {},
   "source": [
    "Q4"
   ]
  },
  {
   "cell_type": "markdown",
   "id": "98d55d2f",
   "metadata": {},
   "source": [
    "The low R-squared value means that the model doesn't explain much of the overall variability in the outcome, but statistically significant coefficients with large values suggest that the predictors have meaningful relationships with the dependent variable. The model is good at identifying the effect of individual predictors, but it might miss out on capturing all the complexity of the data."
   ]
  },
  {
   "cell_type": "markdown",
   "id": "dedea4b8",
   "metadata": {},
   "source": [
    "Q5"
   ]
  },
  {
   "cell_type": "markdown",
   "id": "dad7f281",
   "metadata": {},
   "source": [
    "1.\n",
    "This code illustrates how to:\n",
    "Split a dataset into training and testing subsets.\n",
    "Handle missing data.\n",
    "Set a random seed for reproducibility.\n",
    "Ensure the model has data for both training and testing, which is a key step in building and evaluating machine learning models.\n",
    "2.\n",
    "This code fits a linear regression model with Attack and Defense as predictors of HP. The summary output will provide insight into how well the model fits the data and the statistical significance of the predictors. If the coefficients are significant (with low p-values), and the R-squared value is reasonably high, it suggests that Attack and Defense are useful predictors of HP.\n",
    "3.\n",
    "this model create the predictors and corresponding y outcome; and find the r-squares in sample and out of sample\n",
    "4.\n",
    "This code builds a more complex model with multiple predictors and interaction terms, allowing for a more nuanced relationship between the predictors and the dependent variable HP. The resulting summary provides a detailed breakdown of how well the model fits the data and which variables are statistically significant in predicting HP.\n",
    "5.\n",
    "demonstrates how to evaluate the performance of a regression model using both in-sample and out-of-sample R-squared values, which measure the model's ability to explain variance in the dependent variable"
   ]
  },
  {
   "cell_type": "markdown",
   "id": "61403508",
   "metadata": {},
   "source": [
    "Q6"
   ]
  },
  {
   "cell_type": "markdown",
   "id": "a71e63bc",
   "metadata": {},
   "source": [
    "model4_linear_form create multiple linear regression model with interaction terms between several predictor variables. model4_spec.exog is the matrix represents the predictor variables (independent variables) as columns, with each row corresponding to an observation.\n",
    "Multicollinearity occurs when predictor variables are highly correlated with each other. This happens when one predictor is linearly dependent on or highly correlated with others.\n",
    "Multicollinearity contributes to poor out-of-sample generalization in Overfitting, Unstable Coefficients, Reduced Interpretability, and Overfitting in Interaction Terms."
   ]
  },
  {
   "cell_type": "markdown",
   "id": "7b92ea07",
   "metadata": {},
   "source": [
    "### Summary of Our Chat:\n",
    "\n",
    "2. **Model Building**:\n",
    "   We explored various **regression models** using **statsmodels** and **sklearn** for predicting outcomes related to social activities based on predictors like gender and relationship status. These models included OLS (ordinary least squares) regression and more complex specifications incorporating interactions between predictors.\n",
    "\n",
    "3. **Challenges with Multicollinearity**:\n",
    "   A significant challenge in your models came from the issue of **multicollinearity**—particularly when adding multiple interaction terms, which caused instability in the model and led to very high **condition numbers** (e.g., `2,250,000,000,000,000`). This high condition number indicates that the predictors in the model were highly correlated, causing issues with model interpretability and making it difficult for the model to generalize well to new data (out-of-sample performance).\n",
    "\n",
    "4. **Scaling and Centering**:\n",
    "   We discussed how **scaling and centering** predictor variables helps standardize them to the same scale, which should ideally improve model stability. However, interactions between scaled variables still caused multicollinearity, as highly correlated predictors made it difficult for the model to separate their individual effects.\n",
    "\n",
    "5. **Proposed Solutions**:\n",
    "   To improve model performance and stability, we suggested:\n",
    "   - **Reducing model complexity** by removing unnecessary interactions.\n",
    "   - **Checking correlations** between predictors and removing highly correlated ones.\n",
    "   - Using **regularization techniques** (like Ridge or Lasso regression) to handle multicollinearity and improve generalization.\n",
    "\n",
    "In conclusion, the discussion centered around fitting multiple regression models to your dataset, understanding multicollinearity's impact on model performance, and identifying ways to improve model stability and generalization.\n",
    "https://chatgpt.com/share/6736b4c7-822c-8006-9ce7-9ecf695987a4"
   ]
  },
  {
   "cell_type": "markdown",
   "id": "dad676d4",
   "metadata": {},
   "source": [
    "Q7"
   ]
  },
  {
   "cell_type": "markdown",
   "id": "5987e600",
   "metadata": {},
   "source": [
    "From model3_fit to model5_linear_form, the model is expanded to capture interaction terms and higher-order relationships between predictors.\n",
    "Interaction Terms: In model5_linear_form, the interactions between Attack, Defense, and Speed (and possibly other variables) are added to reflect the idea that the combined effect of two predictors on the outcome might differ from the sum of their individual effects\n",
    "The development from model5_linear_form to model6_linear_form likely involves the inclusion of additional variables or more complex interactions between existing variables.Like produce a non-linear regression\n",
    "From model6_linear_form to model7_linear_form, the model is extended based on theoretical considerations, including adding more variables, refining interaction form, making more complex relationship.\n"
   ]
  },
  {
   "cell_type": "markdown",
   "id": "a8a38469",
   "metadata": {},
   "source": [
    "Q8"
   ]
  },
  {
   "cell_type": "code",
   "execution_count": 3,
   "id": "ffc757ac",
   "metadata": {},
   "outputs": [
    {
     "data": {
      "image/png": "[encoded data removed]",
      "text/plain": [
       "<Figure size 1200x600 with 2 Axes>"
      ]
     },
     "metadata": {},
     "output_type": "display_data"
    },
    {
     "name": "stdout",
     "output_type": "stream",
     "text": [
      "Mean In-Sample R-squared: 0.18206473213033925\n",
      "Mean Out-of-Sample R-squared: 0.1901242581189187\n"
     ]
    }
   ],
   "source": [
    "import pandas as pd\n",
    "import numpy as np\n",
    "import statsmodels.formula.api as smf\n",
    "import matplotlib.pyplot as plt\n",
    "from sklearn.model_selection import train_test_split\n",
    "\n",
    "# Load dataset (update the URL if needed)\n",
    "url = \"https://raw.githubusercontent.com/KeithGalli/pandas/master/pokemon_data.csv\"\n",
    "pokeaman = pd.read_csv(url).fillna('None')\n",
    "\n",
    "# Example of creating a new variable (for illustration purposes)\n",
    "pokeaman['female'] = (pokeaman['Type 1'] == 'Fire').astype(int)  # Example for binary classification\n",
    "\n",
    "# Define model specification\n",
    "model_spec = smf.ols(formula='HP ~ Attack + Defense', data=pokeaman)\n",
    "\n",
    "# Initialize lists to store metrics\n",
    "in_sample_r_squared = []\n",
    "out_of_sample_r_squared = []\n",
    "\n",
    "# Number of iterations for random splits\n",
    "n_iterations = 100\n",
    "\n",
    "for _ in range(n_iterations):\n",
    "    # Perform train-test split\n",
    "    pokeaman_train, pokeaman_test = train_test_split(pokeaman, train_size=0.5)  # 50% train, 50% test\n",
    "    \n",
    "    # Fit the model on the training set\n",
    "    model_fit = model_spec.fit()\n",
    "    \n",
    "    # In-sample R-squared (on training data)\n",
    "    in_sample_r_squared.append(model_fit.rsquared)\n",
    "    \n",
    "    # Out-of-sample R-squared (on test data)\n",
    "    yhat_test = model_fit.predict(pokeaman_test)\n",
    "    y_test = pokeaman_test['HP']\n",
    "    out_of_sample_r_squared.append(np.corrcoef(y_test, yhat_test)[0, 1] ** 2)\n",
    "\n",
    "# Visualize the results\n",
    "plt.figure(figsize=(12, 6))\n",
    "\n",
    "# Plot the distribution of in-sample and out-of-sample R-squared\n",
    "plt.subplot(1, 2, 1)\n",
    "plt.hist(in_sample_r_squared, bins=20, color='skyblue', edgecolor='black')\n",
    "plt.title('In-Sample R-squared Distribution')\n",
    "plt.xlabel('R-squared')\n",
    "plt.ylabel('Frequency')\n",
    "\n",
    "plt.subplot(1, 2, 2)\n",
    "plt.hist(out_of_sample_r_squared, bins=20, color='salmon', edgecolor='black')\n",
    "plt.title('Out-of-Sample R-squared Distribution')\n",
    "plt.xlabel('R-squared')\n",
    "plt.ylabel('Frequency')\n",
    "\n",
    "plt.tight_layout()\n",
    "plt.show()\n",
    "\n",
    "# Output the mean of both\n",
    "print(f'Mean In-Sample R-squared: {np.mean(in_sample_r_squared)}')\n",
    "print(f'Mean Out-of-Sample R-squared: {np.mean(out_of_sample_r_squared)}')\n"
   ]
  },
  {
   "cell_type": "markdown",
   "id": "3d239887",
   "metadata": {},
   "source": [
    "Mean In-Sample R-squared: 0.18206473213033925 indicates that the model is able to explain only a small proportion (18.2%) of the variance in the training data.\n",
    "The primary purpose of this demonstration is to evaluate and compare the performance of a regression model on both training data (in-sample) and testing data (out-of-sample) in order to gain insights into the model's ability to generalize and to assess how well it captures the underlying structure of the data."
   ]
  },
  {
   "cell_type": "markdown",
   "id": "7eaa4bce",
   "metadata": {},
   "source": [
    "Q9"
   ]
  },
  {
   "cell_type": "markdown",
   "id": "310556f1",
   "metadata": {},
   "source": [
    "These codes illustrate the process of evaluating and testing regression models for their ability to generalize across different subsets of the data. By focusing on Pokémon generations, the analysis checks whether models trained on one group of datacan predict outcomes  for unseen data. The in-sample R-squared values show how well the model fits the training data, while the out-of-sample R-squared values assess the model’s generalizability. The results help understand whether the model is overfitting to specific generations or whether it can predict across different datasets effectively."
   ]
  }
 ],
 "metadata": {
  "kernelspec": {
   "display_name": "Python 3 (ipykernel)",
   "language": "python",
   "name": "python3"
  },
  "language_info": {
   "codemirror_mode": {
    "name": "ipython",
    "version": 3
   },
   "file_extension": ".py",
   "mimetype": "text/x-python",
   "name": "python",
   "nbconvert_exporter": "python",
   "pygments_lexer": "ipython3",
   "version": "3.11.6"
  }
 },
 "nbformat": 4,
 "nbformat_minor": 5
}

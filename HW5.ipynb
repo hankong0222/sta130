{
 "cells": [
  {
   "cell_type": "markdown",
   "id": "a642a2db",
   "metadata": {},
   "source": [
    "Q1"
   ]
  },
  {
   "cell_type": "markdown",
   "id": "338101e6",
   "metadata": {},
   "source": [
    "(1) the idea can be examined and tested statistically is that this idea is measurable and quantitive. For example, just like the first vedio, the price of apples can be examined, but which government does better is not quantitive.\n",
    "(2)The key \"criteria\" defining what a good null hypothesis is that the hypothesis is measurable and quantitive, which means that can be examined and tested statistically.\n",
    "(3) the null hypothesis we choose is always equal to a certain number or certain circumstance, and for the alternative hypothesis is the opposite circumstance, greater, less or not equal to the certain number for null hypothesis. We use alternative hypothesis to reject the null hypothesis."
   ]
  },
  {
   "cell_type": "markdown",
   "id": "9b9b5e85",
   "metadata": {},
   "source": [
    "Q2"
   ]
  },
  {
   "cell_type": "markdown",
   "id": "8f6c1ce9",
   "metadata": {},
   "source": [
    "xi is the individual data in the dataset, x-is the mean of the sample datasets. 𝜇 is the population mean, and 𝜇0 is the hypothesis population mean.\n",
    "we use the xi to calculate x-, and use the sampling to analysis the probability that the 𝜇0 is ridiculus.we use the sample statistic (like \n",
    "x- as an estimate to make inferences about the population parameter (like μ)The main reason for these steps is to analysis our 𝜇0 hypothesis is statisitically false or true related to the population mean."
   ]
  },
  {
   "cell_type": "markdown",
   "id": "18cc6182",
   "metadata": {},
   "source": [
    "Q3"
   ]
  },
  {
   "cell_type": "markdown",
   "id": "f0524e48",
   "metadata": {},
   "source": [
    "as the sampling distribution helps us connect sample data (which comes from the real world) to broader population-level inferences, the relavence of sampling disribution gives us the likelihood of our test statistic under the null hypothesis. For our hypothesis test, the goal for the p-value is to use to reject or not reject the null hypothesis. p-value is the probability for our hypothesis to be extreme. So, consider the real world to think about whether our hypothesis is ridiculous is the thing that our hypothesis test do the same."
   ]
  },
  {
   "cell_type": "markdown",
   "id": "5b41ee45",
   "metadata": {},
   "source": [
    "Q4"
   ]
  },
  {
   "cell_type": "markdown",
   "id": "9250a779",
   "metadata": {},
   "source": [
    "The p-value measures the probability of the extreme or more extreme values get assuming that the null hypothesis is true.If the observed test statistic looks extreme to the sampling distribution of the test statistic under the null hypothesis, we say that p-value is large."
   ]
  },
  {
   "cell_type": "markdown",
   "id": "0e5c9de0",
   "metadata": {},
   "source": [
    "Q5"
   ]
  },
  {
   "cell_type": "markdown",
   "id": "ad071a1e",
   "metadata": {},
   "source": [
    "H0:p = 0.5 p is the possibility for a man to tilt head.\n",
    "Ha:p != 0.5 "
   ]
  },
  {
   "cell_type": "code",
   "execution_count": 1,
   "id": "e1712c09",
   "metadata": {},
   "outputs": [
    {
     "name": "stdout",
     "output_type": "stream",
     "text": [
      "Simulated p-value: 0.0012\n"
     ]
    }
   ],
   "source": [
    "import numpy as np\n",
    "\n",
    "# Parameters\n",
    "num_couples = 124  # Total number of couples\n",
    "right_tilt_observed = 80  # Observed number of right tilts\n",
    "simulations = 10000  # Number of simulations to run\n",
    "\n",
    "# Simulate flipping a coin (0 = left tilt, 1 = right tilt) for 124 couples over 10,000 trials\n",
    "simulated_tilts = np.random.binomial(num_couples, 0.5, simulations)\n",
    "\n",
    "# Count how many simulations resulted in 80 or more right tilts\n",
    "extreme_cases = np.sum(simulated_tilts >= right_tilt_observed)\n",
    "\n",
    "# Calculate the p-value as the proportion of extreme cases\n",
    "p_value = extreme_cases / simulations\n",
    "\n",
    "# Output the result\n",
    "print(f\"Simulated p-value: {p_value}\")"
   ]
  },
  {
   "cell_type": "markdown",
   "id": "520a7b77",
   "metadata": {},
   "source": [
    "0.01≥𝑝>0.001\n",
    " \n",
    "Strong evidence against the null hypothesis"
   ]
  },
  {
   "cell_type": "markdown",
   "id": "dee66a1f",
   "metadata": {},
   "source": [
    "Here’s a summary of our chat history:\n",
    "\n",
    "1. **Statistical Testing Concepts**:\n",
    "   - We discussed the importance of distinguishing between ideas that can be statistically examined and tested versus those that cannot.\n",
    "   - You noted that outcomes of tests refer to the population parameter rather than the sample statistic, highlighting the relevance of the sampling distribution of the test statistic under the null hypothesis.\n",
    "\n",
    "2. **P-Value Understanding**:\n",
    "   - We explored the concept of p-values, including their definition and what they represent in hypothesis testing.\n",
    "   - You expressed confusion about the meaning of extreme or more extreme values in the context of p-values.\n",
    "   - I clarified that a smaller p-value indicates more extreme data relative to the null hypothesis, leading to the rejection of \\( H_0 \\).\n",
    "\n",
    "3. **Kissing Couples Study**:\n",
    "   - You referenced a study by Güntürkün (2003) on head tilting in kissing couples, where 80 out of 124 couples tilted their heads to the right (64.5%).\n",
    "   - We discussed simulating a p-value using a \"50/50 coin-flipping\" model under the null hypothesis that there is no head-tilt tendency.\n",
    "   - I performed the simulation in Python, which yielded a p-value of approximately **0.001**, suggesting strong evidence against the null hypothesis.\n",
    "\n",
    "4. **Python Simulation Code**:\n",
    "   - I provided you with the full Python code used for the simulation, explaining each part of the code and its function in estimating the p-value.\n",
    "\n",
    "If you have any more questions or if there’s anything else you’d like to discuss, feel free to ask!\n",
    "\n",
    "https://chatgpt.com/share/6705fe10-5588-8006-a15f-fd18d3b73efa"
   ]
  },
  {
   "cell_type": "markdown",
   "id": "0ed673e4",
   "metadata": {},
   "source": [
    "Q6"
   ]
  },
  {
   "cell_type": "markdown",
   "id": "cd57f1d9",
   "metadata": {},
   "source": [
    "(1) A smaller p-value cannot definitively prove that the null hypothesis is false. p-value is small just means that we have strong statistically evidence suggests that we reject null hypothesis, but the there are too many uncertainty for the real circumstances.\n",
    "(2)No, because we only said that like we are 95% confidence that fido is innocent by applying p-value.\n",
    "(3)Similarly, we cannot definitely prove that fido is guilty. Even though the p-value is greater, we just say we failed to reject our null hypothesis, cannot say support the other side.\n",
    "(4)Whatever the p-value is low or high, we cannot promise our hypothesis is definitely true in the real circumstance. We only say that we have statistical evidence to prove, but about the real world there are too many uncertainty."
   ]
  },
  {
   "cell_type": "markdown",
   "id": "a104ff48",
   "metadata": {},
   "source": [
    "Q7"
   ]
  },
  {
   "cell_type": "markdown",
   "id": "ac3f3a37",
   "metadata": {},
   "source": [
    "the orginal code:"
   ]
  },
  {
   "cell_type": "code",
   "execution_count": 3,
   "id": "3243112e",
   "metadata": {},
   "outputs": [
    {
     "name": "stdout",
     "output_type": "stream",
     "text": [
      "Observed Improvement Proportion: 0.8\n",
      "P-value: 0.0565\n"
     ]
    }
   ],
   "source": [
    "import pandas as pd\n",
    "\n",
    "patient_data = pd.DataFrame({\n",
    "    \"PatientID\": [1, 2, 3, 4, 5, 6, 7, 8, 9, 10],\n",
    "    \"Age\": [45, 34, 29, 52, 37, 41, 33, 48, 26, 39],\n",
    "    \"Gender\": [\"M\", \"F\", \"M\", \"F\", \"M\", \"F\", \"M\", \"F\", \"M\", \"F\"],\n",
    "    \"InitialHealthScore\": [84, 78, 83, 81, 81, 80, 79, 85, 76, 83],\n",
    "    \"FinalHealthScore\": [86, 86, 80, 86, 84, 86, 86, 82, 83, 84]\n",
    "})\n",
    "\n",
    "import numpy as np\n",
    "\n",
    "np.random.seed(1)  # make simulation reproducible\n",
    "number_of_simulations = 10000  # experiment with this... what does this do?\n",
    "n_size = len(patient_data)  # 10\n",
    "IncreaseProportionSimulations_underH0random = np.zeros(number_of_simulations)\n",
    "\n",
    "# generate \"random improvement\" proportions assuming H0 (vaccine has no average effect) is true \n",
    "# meaning that the \"before and after\" differences are positive or negative at \"random\"\n",
    "for i in range(number_of_simulations):\n",
    "    \n",
    "    # why is this equivalent to the suggested idea above?\n",
    "    random_improvement = np.random.choice([0,1], size=len(patient_data), replace=True)  # <<< `replace=True` ^^^\n",
    "\n",
    "    # why is .mean() a proportion? \n",
    "    IncreaseProportionSimulations_underH0random[i] = random_improvement.mean()\n",
    "    \n",
    "# Step 1: Calculate the observed improvement proportion\n",
    "patient_data['HealthScoreChange'] = patient_data['FinalHealthScore'] - patient_data['InitialHealthScore']\n",
    "observed_improvement_proportion = (patient_data['HealthScoreChange'] > 0).mean()\n",
    "\n",
    "# Step 2: Count how many of the simulated proportions are greater than or equal to the observed proportion\n",
    "extreme_count = (IncreaseProportionSimulations_underH0random >= observed_improvement_proportion).sum()\n",
    "\n",
    "# Step 3: Calculate the p-value\n",
    "p_value = extreme_count / number_of_simulations\n",
    "\n",
    "print(\"Observed Improvement Proportion:\", observed_improvement_proportion)\n",
    "print(\"P-value:\", p_value)\n"
   ]
  },
  {
   "cell_type": "markdown",
   "id": "803921cf",
   "metadata": {},
   "source": [
    "the changed code:"
   ]
  },
  {
   "cell_type": "code",
   "execution_count": 8,
   "id": "12a1fc57",
   "metadata": {},
   "outputs": [
    {
     "name": "stdout",
     "output_type": "stream",
     "text": [
      "Observed Improvement Proportion: 0.8\n",
      "One-Sided P-value: 0.0107\n"
     ]
    }
   ],
   "source": [
    "# Step 1: Calculate the observed improvement proportion\n",
    "patient_data['HealthScoreChange'] = patient_data['FinalHealthScore'] - patient_data['InitialHealthScore']\n",
    "observed_improvement_proportion = (patient_data['HealthScoreChange'] > 0).mean()\n",
    "\n",
    "# Step 2: Count how many of the simulated proportions are greater than the observed proportion\n",
    "one_sided_extreme_count = (IncreaseProportionSimulations_underH0random > observed_improvement_proportion).sum()\n",
    "\n",
    "# Step 3: Calculate the one-sided p-value\n",
    "one_sided_p_value = one_sided_extreme_count / number_of_simulations\n",
    "\n",
    "print(\"Observed Improvement Proportion:\", observed_improvement_proportion)\n",
    "print(\"One-Sided P-value:\", one_sided_p_value)\n"
   ]
  },
  {
   "cell_type": "markdown",
   "id": "372f8b0e",
   "metadata": {},
   "source": [
    "we changed extreme_count = (IncreaseProportionSimulations_underH0random >= observed_improvement_proportion).sum()\n",
    "into one_sided_extreme_count = (IncreaseProportionSimulations_underH0random > observed_improvement_proportion).sum()\n",
    "that means we cannot use the proportions which are equal to the observed proportion"
   ]
  },
  {
   "cell_type": "markdown",
   "id": "079f446f",
   "metadata": {},
   "source": [
    "the interpretation of our alternitave hypothesis for two sides is that the probability of the result could be an improvement or a decline, but the one side is that the result can only an improvement."
   ]
  },
  {
   "cell_type": "markdown",
   "id": "d0e16852",
   "metadata": {},
   "source": [
    "we should indeed expect the p-value to be smaller in the \"one tailed\" versus \"two tailed\" analysis.That's because the probability for equal (have no effect) is include in two tailed, exclude in one tailed, so the probability for an extreme value for equal or greater should be greater than an extreme value for just greater."
   ]
  },
  {
   "cell_type": "markdown",
   "id": "1c14246d",
   "metadata": {},
   "source": [
    "Q8"
   ]
  },
  {
   "cell_type": "markdown",
   "id": "741067d6",
   "metadata": {},
   "source": [
    "H0: p=0.5 make a hypothesis that students are guess randomly,p is the proportion of student guess correctly\n",
    "Ha： p n> 0.5  means that students are not guess randomly, they have the ability\n"
   ]
  },
  {
   "cell_type": "code",
   "execution_count": 9,
   "id": "542230a0",
   "metadata": {},
   "outputs": [
    {
     "name": "stdout",
     "output_type": "stream",
     "text": [
      "Simulated p-value: 0.02849\n"
     ]
    }
   ],
   "source": [
    "import numpy as np\n",
    "\n",
    "n_students = 80 \n",
    "p_guess = 0.5    \n",
    "observed_correct = 49  \n",
    "n_simulations = 100000  \n",
    "\n",
    "np.random.seed(0)  \n",
    "\n",
    "simulated_correct = np.random.binomial(n_students, p_guess, n_simulations)\n",
    "\n",
    "# Calculate the proportion of simulations where the number of correct guesses >= 49\n",
    "p_value_simulation = np.mean(simulated_correct >= observed_correct)\n",
    "print(f\"Simulated p-value: {p_value_simulation}\")"
   ]
  },
  {
   "cell_type": "markdown",
   "id": "ad8229ca",
   "metadata": {},
   "source": [
    "Assuming H0 is true, there is a 0.02849 probablility of getting a greater than 49/80 by chance\n",
    "since 0.02849<0.5, that means there are statistical evidence to reject that students dont have ability to distinguish the drinks.\n"
   ]
  },
  {
   "cell_type": "markdown",
   "id": "f1b7a911",
   "metadata": {},
   "source": [
    "Q9"
   ]
  },
  {
   "cell_type": "markdown",
   "id": "8c68d944",
   "metadata": {},
   "source": [
    "yes"
   ]
  },
  {
   "cell_type": "markdown",
   "id": "89a6ad17",
   "metadata": {},
   "source": [
    "Here's a summary of our chat:\n",
    "\n",
    "1. **Code Interpretation**: You shared some code related to analyzing patient health score changes. I explained how to interpret the code, focusing on the comparison of actual health improvements against random changes simulated under the null hypothesis (H0), which assumes no effect of treatment (e.g., vaccine).\n",
    "\n",
    "2. **Calculating p-value**: You asked how to calculate the p-value. I guided you through computing the p-value by:\n",
    "   - Simulating random data under the null hypothesis.\n",
    "   - Comparing the observed improvement proportion with the distribution of simulated improvements.\n",
    "   - Computing the p-value as the proportion of simulations that show a more extreme result than the observed data.\n",
    "\n",
    "3. **One-Sided vs. Two-Sided Tests**:\n",
    "   - We discussed the difference between one-sided (one-tailed) and two-sided (two-tailed) hypothesis tests.\n",
    "   - **One-sided test**: Focuses on whether there is a significant improvement (e.g., health improvement due to a treatment).\n",
    "   - **Two-sided test**: Considers whether the data is significantly different from the null hypothesis in either direction (improvement or decline).\n",
    "\n",
    "4. **Coding for One-Sided and Two\n",
    "\n",
    "https://chatgpt.com/share/6706ba2d-bd68-8006-8913-2f62c124cec0"
   ]
  }
 ],
 "metadata": {
  "kernelspec": {
   "display_name": "Python 3 (ipykernel)",
   "language": "python",
   "name": "python3"
  },
  "language_info": {
   "codemirror_mode": {
    "name": "ipython",
    "version": 3
   },
   "file_extension": ".py",
   "mimetype": "text/x-python",
   "name": "python",
   "nbconvert_exporter": "python",
   "pygments_lexer": "ipython3",
   "version": "3.11.6"
  }
 },
 "nbformat": 4,
 "nbformat_minor": 5
}
